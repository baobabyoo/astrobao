{
 "cells": [
  {
   "cell_type": "markdown",
   "metadata": {},
   "source": [
    "# Handy small functions related to astronomical research"
   ]
  },
  {
   "cell_type": "markdown",
   "metadata": {},
   "source": [
    "# Defining function"
   ]
  },
  {
   "cell_type": "code",
   "execution_count": 138,
   "metadata": {},
   "outputs": [],
   "source": [
    "import math\n",
    "import numpy as np\n",
    "\n",
    "def Planckfunc_cgs(freq, temperature):\n",
    "  \"\"\"\n",
    "  Calculate Planck function.\n",
    "  \n",
    "  Inputs:\n",
    "     freq: frequency, in Hz\n",
    "     temperature: temperature in Kelvin\n",
    "     \n",
    "  Return:\n",
    "     Intensity: in cgs unit ( erg s^-1 sr^-1 cm^-2 Hz-1 )\n",
    "  \"\"\"\n",
    "\n",
    "  # defining physical constants\n",
    "  c_cgs       = 29979245800.0   # light speed\n",
    "  h_cgs       = 6.62606885e-27  # planck constant\n",
    "  kB_cgs      = 1.38064852e-16  # Boltzmann constant\n",
    "\n",
    "  A = ( 2.0 * h_cgs * (freq**3.0) ) /  ( c_cgs ** 2.0 )\n",
    "  B = math.exp( (h_cgs * freq) / (kB_cgs * temperature) )\n",
    "  \n",
    "  return A * ( 1.0 / (B - 1.0) )\n",
    "\n",
    "\n",
    "\n",
    "def Planckfunc_mks(freq, temperature):\n",
    "  \"\"\"\n",
    "  Calculate Planck function.\n",
    "  \n",
    "  Inputs:\n",
    "     freq: frequency, in Hz\n",
    "     temperature: temperature in Kelvin\n",
    "     \n",
    "  Return:\n",
    "     Intensity: in mks unit ( J s^-1 sr^-1 m^-2 Hz-1 )\n",
    "  \"\"\"\n",
    "\n",
    "  # defining physical constants\n",
    "  c_mks       = 299792458.0   # light speed\n",
    "  h_mks       = 6.62607004e-34  # planck constant\n",
    "  kB_mks      = 1.38064852e-23  # Boltzmann constant\n",
    "\n",
    "  A = ( 2.0 * h_mks * (freq**3.0) ) /  ( c_mks ** 2.0 )\n",
    "  B = math.exp( (h_mks * freq) / (kB_mks * temperature) )\n",
    "  \n",
    "  return A * ( 1.0 / (B - 1.0) )"
   ]
  },
  {
   "cell_type": "code",
   "execution_count": null,
   "metadata": {},
   "outputs": [],
   "source": []
  },
  {
   "cell_type": "markdown",
   "metadata": {},
   "source": [
    "# Plotting"
   ]
  },
  {
   "cell_type": "code",
   "execution_count": 139,
   "metadata": {},
   "outputs": [],
   "source": [
    "import matplotlib\n",
    "import matplotlib.pyplot as plt\n",
    "%matplotlib inline"
   ]
  },
  {
   "cell_type": "markdown",
   "metadata": {},
   "source": [
    "Plot Planck function in cgs and mks unit"
   ]
  },
  {
   "cell_type": "code",
   "execution_count": 180,
   "metadata": {},
   "outputs": [
    {
     "data": {
      "text/plain": [
       "<matplotlib.text.Text at 0x7f573984ca20>"
      ]
     },
     "execution_count": 180,
     "metadata": {},
     "output_type": "execute_result"
    },
    {
     "data": {
      "image/png": "[encoded data removed]",
      "text/plain": [
       "<matplotlib.figure.Figure at 0x7f57398c75f8>"
      ]
     },
     "metadata": {},
     "output_type": "display_data"
    }
   ],
   "source": [
    "output_array_cgs = np.arange(1, 501) * 0.0   # output of planck function\n",
    "output_array_mks = np.arange(1, 501) * 0.0\n",
    "\n",
    "cgsflux_to_Jy = 10e23\n",
    "mksflux_to_Jy = 10e26\n",
    "\n",
    "str_to_sqdegree    = 3282.80635\n",
    "str_to_sqarcsecond = 3282.80635 * (3600.0 ** 2.0)\n",
    "\n",
    "# evaluate Planck function in CGS unit\n",
    "temperature  = 15.0                  # Kelvin\n",
    "freq_array   = np.arange(1, 501) * 10e9  # frequency in Hz\n",
    "for id in list(range(0, 500)):\n",
    "   output_array_cgs[id] = Planckfunc_cgs(freq_array[id], temperature) * \\\n",
    "                                  cgsflux_to_Jy / str_to_sqarcsecond\n",
    "   freq_array[id]   = math.log10( freq_array[id]  / 1e9 )\n",
    "    \n",
    "    \n",
    "# evaluate Planck function in MKS unit\n",
    "TCMB  = 2.72548                  # Kelvin\n",
    "freq_array   = np.arange(1, 501) * 10e9  # frequency in Hz\n",
    "for id in list(range(0, 500)):\n",
    "   output_array_mks[id] = Planckfunc_mks(freq_array[id], TCMB) * \\\n",
    "                                  mksflux_to_Jy / str_to_sqarcsecond\n",
    "   freq_array[id]   = math.log10( freq_array[id]  / 1e9 )\n",
    "\n",
    "\n",
    "# plotting\n",
    "fig = plt.figure(figsize=(9, 14))\n",
    "plt.subplot(2, 1, 1)\n",
    "plt.axis([1.0, 3.5, -5, 3])\n",
    "plt.plot(freq_array, np.log10(output_array_cgs), \\\n",
    "         color = (0, 0, 1.0, 0.2),\n",
    "         linewidth=8)\n",
    "plt.plot(freq_array, np.log10(output_array_mks), \\\n",
    "          linestyle = 'dashed',\n",
    "          color = (0.2, 0.6, 0, 0.4),\n",
    "          linewidth =5)\n",
    "plt.plot(freq_array, np.log10(output_array_cgs - output_array_mks), \\\n",
    "          linestyle = 'dashed',\n",
    "          color = (1.0, 0, 0, 0.4),\n",
    "          linewidth =5)\n",
    "plt.title('Planck Function (CGS)')\n",
    "plt.xlabel('Log10(Frequency [GHz])')\n",
    "plt.ylabel('Intensity (Jy arcsecond^2)')"
   ]
  },
  {
   "cell_type": "code",
   "execution_count": null,
   "metadata": {},
   "outputs": [],
   "source": []
  },
  {
   "cell_type": "code",
   "execution_count": null,
   "metadata": {},
   "outputs": [],
   "source": []
  }
 ],
 "metadata": {
  "kernelspec": {
   "display_name": "Python 3",
   "language": "python",
   "name": "python3"
  },
  "language_info": {
   "codemirror_mode": {
    "name": "ipython",
    "version": 3
   },
   "file_extension": ".py",
   "mimetype": "text/x-python",
   "name": "python",
   "nbconvert_exporter": "python",
   "pygments_lexer": "ipython3",
   "version": "3.6.2"
  }
 },
 "nbformat": 4,
 "nbformat_minor": 2
}
